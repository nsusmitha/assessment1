{
 "cells": [
  {
   "cell_type": "markdown",
   "id": "0e7c7f24",
   "metadata": {},
   "source": [
    "# First Python Assessment"
   ]
  },
  {
   "cell_type": "code",
   "execution_count": 4,
   "id": "6ed8bd4a",
   "metadata": {},
   "outputs": [
    {
     "name": "stdout",
     "output_type": "stream",
     "text": [
      "Requirement already satisfied: pandas in c:\\users\\nvive\\anaconda3\\lib\\site-packages (1.4.4)\n",
      "Requirement already satisfied: numpy>=1.18.5 in c:\\users\\nvive\\anaconda3\\lib\\site-packages (from pandas) (1.21.5)\n",
      "Requirement already satisfied: pytz>=2020.1 in c:\\users\\nvive\\anaconda3\\lib\\site-packages (from pandas) (2022.1)\n",
      "Requirement already satisfied: python-dateutil>=2.8.1 in c:\\users\\nvive\\anaconda3\\lib\\site-packages (from pandas) (2.8.2)\n",
      "Requirement already satisfied: six>=1.5 in c:\\users\\nvive\\anaconda3\\lib\\site-packages (from python-dateutil>=2.8.1->pandas) (1.16.0)\n"
     ]
    }
   ],
   "source": [
    "!pip install pandas\n"
   ]
  },
  {
   "cell_type": "code",
   "execution_count": 2,
   "id": "07f41997",
   "metadata": {},
   "outputs": [],
   "source": [
    "import pandas as pd"
   ]
  },
  {
   "cell_type": "code",
   "execution_count": 5,
   "id": "f611fe4a",
   "metadata": {},
   "outputs": [],
   "source": [
    "x=pd.read_csv(r\"C:\\Users\\nvive\\excel files\\example_students.csv\")"
   ]
  },
  {
   "cell_type": "code",
   "execution_count": 6,
   "id": "04584f81",
   "metadata": {},
   "outputs": [
    {
     "name": "stdout",
     "output_type": "stream",
     "text": [
      "      first mi     last   age                                  guid  natural  \\\n",
      "0  Mitchell  G    Perez  45.0  33242ce8-b1f6-5e09-9cb5-1b52a1ea2f8d      3.0   \n",
      "1   Kathryn  R   Carter  55.0  e6c38b0c-a765-5cfe-97ae-ba7221c8d1c3      2.0   \n",
      "2     Daisy  C   Vaughn  38.0  9fa96188-5136-59d1-b1f0-45d504dd0a01      3.0   \n",
      "3   Stanley  U   Wright  58.0  6f2c2b75-df73-5ad2-b73d-78e6704f85c9      0.0   \n",
      "4       Amy  W  Schmidt  51.0  af9670ac-d6fd-5e8f-82f1-f2a5e0c83e91      1.0   \n",
      "\n",
      "   natural.1  \n",
      "0        3.0  \n",
      "1        4.0  \n",
      "2        0.0  \n",
      "3        4.0  \n",
      "4        3.0  \n"
     ]
    }
   ],
   "source": [
    "print(x.head())"
   ]
  },
  {
   "cell_type": "code",
   "execution_count": 12,
   "id": "21c61e92",
   "metadata": {},
   "outputs": [
    {
     "name": "stdout",
     "output_type": "stream",
     "text": [
      "First Name:\n",
      "\n",
      " 0      Mitchell\n",
      "1       Kathryn\n",
      "2         Daisy\n",
      "3       Stanley\n",
      "4           Amy\n",
      "5          Rose\n",
      "6        Dennis\n",
      "7          Gene\n",
      "8       Richard\n",
      "9        Trevor\n",
      "10       Ronald\n",
      "11        Pearl\n",
      "12          Don\n",
      "13    Josephine\n",
      "14      Charles\n",
      "15        Jason\n",
      "16        Katie\n",
      "17     Beatrice\n",
      "18        Jason\n",
      "19        Belle\n",
      "20     Isabella\n",
      "21       Nellie\n",
      "22       Herman\n",
      "23        Barry\n",
      "24         Troy\n",
      "25       Virgie\n",
      "26      Dominic\n",
      "27        Allie\n",
      "28        Wayne\n",
      "29       Arthur\n",
      "30        Bryan\n",
      "31      Phillip\n",
      "32       Miguel\n",
      "33        Harry\n",
      "34        Irene\n",
      "35     Clarence\n",
      "36        Allen\n",
      "37       Willie\n",
      "38         Dora\n",
      "39       Hattie\n",
      "40       Samuel\n",
      "41    Alejandro\n",
      "42       Jeremy\n",
      "43       Jordan\n",
      "44       Nannie\n",
      "45     Harriett\n",
      "46       Herman\n",
      "47         Glen\n",
      "48          Ida\n",
      "49      Kathryn\n",
      "50          NaN\n",
      "51          NaN\n",
      "Name: first, dtype: object\n"
     ]
    }
   ],
   "source": [
    "print(\"First Name:\\n\\n\",x['first'])"
   ]
  },
  {
   "cell_type": "code",
   "execution_count": 13,
   "id": "c15f6fed",
   "metadata": {},
   "outputs": [
    {
     "name": "stdout",
     "output_type": "stream",
     "text": [
      "MiddleName:\n",
      "\n",
      " 0       G\n",
      "1       R\n",
      "2       C\n",
      "3       U\n",
      "4       W\n",
      "5       M\n",
      "6       R\n",
      "7       D\n",
      "8       Q\n",
      "9       P\n",
      "10      K\n",
      "11      S\n",
      "12      B\n",
      "13      J\n",
      "14      I\n",
      "15      S\n",
      "16      A\n",
      "17      Z\n",
      "18      Z\n",
      "19      O\n",
      "20      Z\n",
      "21      V\n",
      "22      N\n",
      "23      Q\n",
      "24      G\n",
      "25      W\n",
      "26      P\n",
      "27      B\n",
      "28      I\n",
      "29      G\n",
      "30      A\n",
      "31      Z\n",
      "32      D\n",
      "33      D\n",
      "34      X\n",
      "35      E\n",
      "36      B\n",
      "37      S\n",
      "38      F\n",
      "39      L\n",
      "40      Y\n",
      "41      D\n",
      "42      J\n",
      "43      I\n",
      "44      E\n",
      "45      Y\n",
      "46      U\n",
      "47      D\n",
      "48      C\n",
      "49      P\n",
      "50    NaN\n",
      "51    NaN\n",
      "Name: mi, dtype: object\n"
     ]
    }
   ],
   "source": [
    "print(\"MiddleName:\\n\\n\",x['mi'])"
   ]
  },
  {
   "cell_type": "code",
   "execution_count": 14,
   "id": "a251f15a",
   "metadata": {},
   "outputs": [
    {
     "name": "stdout",
     "output_type": "stream",
     "text": [
      "Last Name:\n",
      "\n",
      " 0          Perez\n",
      "1         Carter\n",
      "2         Vaughn\n",
      "3         Wright\n",
      "4        Schmidt\n",
      "5        Carlson\n",
      "6        Houston\n",
      "7       Santiago\n",
      "8          Ortiz\n",
      "9        McBride\n",
      "10         Watts\n",
      "11         Curry\n",
      "12         Owens\n",
      "13      Gonzales\n",
      "14       Douglas\n",
      "15      Anderson\n",
      "16        Barker\n",
      "17     Schneider\n",
      "18        Duncan\n",
      "19        Abbott\n",
      "20        Austin\n",
      "21     Singleton\n",
      "22      McDonald\n",
      "23      Chambers\n",
      "24         Brown\n",
      "25          Wood\n",
      "26       Daniels\n",
      "27       Daniels\n",
      "28      McDonald\n",
      "29    Williamson\n",
      "30        Brooks\n",
      "31        Jensen\n",
      "32         Moran\n",
      "33         Silva\n",
      "34       Spencer\n",
      "35         Frank\n",
      "36       Lambert\n",
      "37     Robertson\n",
      "38        Walker\n",
      "39         Blake\n",
      "40          Neal\n",
      "41         Garza\n",
      "42        Steele\n",
      "43         Perez\n",
      "44       Hampton\n",
      "45      Anderson\n",
      "46        Phelps\n",
      "47         Garza\n",
      "48         Wolfe\n",
      "49      Johnston\n",
      "50           NaN\n",
      "51           NaN\n",
      "Name: last, dtype: object\n"
     ]
    }
   ],
   "source": [
    "print(\"Last Name:\\n\\n\",x['last'])"
   ]
  },
  {
   "cell_type": "code",
   "execution_count": 15,
   "id": "b3c5a27e",
   "metadata": {},
   "outputs": [
    {
     "name": "stdout",
     "output_type": "stream",
     "text": [
      "Mean for Column Age:\n",
      "\n",
      " 40.56\n"
     ]
    }
   ],
   "source": [
    "print(\"Mean for Column Age:\\n\\n\",x['age'].mean())"
   ]
  },
  {
   "cell_type": "code",
   "execution_count": 16,
   "id": "4454a95c",
   "metadata": {},
   "outputs": [
    {
     "name": "stdout",
     "output_type": "stream",
     "text": [
      "Requirement already satisfied: matplotlib in c:\\users\\nvive\\anaconda3\\lib\\site-packages (3.5.2)\n",
      "Requirement already satisfied: cycler>=0.10 in c:\\users\\nvive\\anaconda3\\lib\\site-packages (from matplotlib) (0.11.0)\n",
      "Requirement already satisfied: pillow>=6.2.0 in c:\\users\\nvive\\anaconda3\\lib\\site-packages (from matplotlib) (9.2.0)\n",
      "Requirement already satisfied: numpy>=1.17 in c:\\users\\nvive\\anaconda3\\lib\\site-packages (from matplotlib) (1.21.5)\n",
      "Requirement already satisfied: pyparsing>=2.2.1 in c:\\users\\nvive\\anaconda3\\lib\\site-packages (from matplotlib) (3.0.9)\n",
      "Requirement already satisfied: python-dateutil>=2.7 in c:\\users\\nvive\\anaconda3\\lib\\site-packages (from matplotlib) (2.8.2)\n",
      "Requirement already satisfied: kiwisolver>=1.0.1 in c:\\users\\nvive\\anaconda3\\lib\\site-packages (from matplotlib) (1.4.2)\n",
      "Requirement already satisfied: fonttools>=4.22.0 in c:\\users\\nvive\\anaconda3\\lib\\site-packages (from matplotlib) (4.25.0)\n",
      "Requirement already satisfied: packaging>=20.0 in c:\\users\\nvive\\anaconda3\\lib\\site-packages (from matplotlib) (21.3)\n",
      "Requirement already satisfied: six>=1.5 in c:\\users\\nvive\\anaconda3\\lib\\site-packages (from python-dateutil>=2.7->matplotlib) (1.16.0)\n"
     ]
    }
   ],
   "source": [
    "!pip install matplotlib"
   ]
  },
  {
   "cell_type": "code",
   "execution_count": 17,
   "id": "86eb0daa",
   "metadata": {},
   "outputs": [
    {
     "name": "stderr",
     "output_type": "stream",
     "text": [
      "Matplotlib is building the font cache; this may take a moment.\n"
     ]
    }
   ],
   "source": [
    "import matplotlib.pyplot as plt"
   ]
  },
  {
   "cell_type": "code",
   "execution_count": 18,
   "id": "a884ab0f",
   "metadata": {},
   "outputs": [],
   "source": [
    "import numpy as np"
   ]
  },
  {
   "cell_type": "code",
   "execution_count": 21,
   "id": "e5325044",
   "metadata": {},
   "outputs": [
    {
     "data": {
      "image/png": "[encoded data removed]",
      "text/plain": [
       "<Figure size 640x480 with 1 Axes>"
      ]
     },
     "metadata": {},
     "output_type": "display_data"
    }
   ],
   "source": [
    "x_axis=np.array([0,4])\n",
    "y_axis=np.array([0,100])\n",
    "plt.plot(x_axis,color=\"blue\",linewidth=1,linestyle='dashed')\n",
    "plt.plot(y_axis,color=\"green\",linewidth=1,linestyle='dotted')\n",
    "plt.show()"
   ]
  },
  {
   "cell_type": "code",
   "execution_count": null,
   "id": "6ac0570d",
   "metadata": {},
   "outputs": [],
   "source": []
  }
 ],
 "metadata": {
  "kernelspec": {
   "display_name": "Python 3 (ipykernel)",
   "language": "python",
   "name": "python3"
  },
  "language_info": {
   "codemirror_mode": {
    "name": "ipython",
    "version": 3
   },
   "file_extension": ".py",
   "mimetype": "text/x-python",
   "name": "python",
   "nbconvert_exporter": "python",
   "pygments_lexer": "ipython3",
   "version": "3.9.13"
  }
 },
 "nbformat": 4,
 "nbformat_minor": 5
}
